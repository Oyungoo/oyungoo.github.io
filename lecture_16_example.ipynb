{
 "cells": [
  {
   "cell_type": "markdown",
   "id": "2c42b56e",
   "metadata": {},
   "source": [
    "# Lecture 8 \n"
   ]
  }
 ],
 "metadata": {
  "language_info": {
   "name": "python"
  }
 },
 "nbformat": 4,
 "nbformat_minor": 5
}
