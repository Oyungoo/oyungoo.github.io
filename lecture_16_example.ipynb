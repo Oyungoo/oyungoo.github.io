{
 "cells": [
  {
   "cell_type": "markdown",
   "id": "2c42b56e",
   "metadata": {},
   "source": [
    "# Lecture 16 Example"
   ]
  }
 ],
 "metadata": {
  "language_info": {
   "name": "python"
  }
 },
 "nbformat": 4,
 "nbformat_minor": 5
}
